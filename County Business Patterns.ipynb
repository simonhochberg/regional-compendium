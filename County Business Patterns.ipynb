{
 "cells": [
  {
   "cell_type": "markdown",
   "metadata": {},
   "source": [
    "# Notebook for CP 220 Compendium Assignment #1"
   ]
  },
  {
   "cell_type": "code",
   "execution_count": null,
   "metadata": {},
   "outputs": [],
   "source": [
    "import pandas as pd, numpy as np, requests, re\n",
    "from matplotlib import pyplot as plt\n",
    "pd.set_option(\"max_columns\", 100)\n",
    "pd.set_option(\"max_rows\", 100)"
   ]
  },
  {
   "cell_type": "code",
   "execution_count": null,
   "metadata": {},
   "outputs": [],
   "source": [
    "cbp = pd.read_csv('data/cbp16co.txt')\n",
    "cbp13 = pd.read_csv('data/cbp13co.txt')"
   ]
  },
  {
   "cell_type": "code",
   "execution_count": null,
   "metadata": {},
   "outputs": [],
   "source": [
    "# nine-county Bay Area region\n",
    "nine_counties = [1, 13, 41, 55, 75, 81, 85, 95, 97]"
   ]
  },
  {
   "cell_type": "code",
   "execution_count": null,
   "metadata": {},
   "outputs": [],
   "source": [
    "industries = {\n",
    "    \"11----\" : \"Agriculture, Forestry, Fishing and Hunting\",\n",
    "    \"21----\" : \"Mining, Quarrying, and Oil and Gas Extraction\",\n",
    "    \"22----\" : \"Utilities\",\n",
    "    \"23----\" : \"Construction\",\n",
    "    \"31----\" : \"Manufacturing\",\n",
    "    \"42----\" : \"Wholesale Trade\",\n",
    "    \"44----\" : \"Retail Trade\",\n",
    "    \"48----\" : \"Transportation and Warehousing\",\n",
    "    \"51----\" : \"Information\",\n",
    "    \"52----\" : \"Finance and Insurance\",\n",
    "    \"53----\" : \"Real Estate and Rental and Leasing\",\n",
    "    \"54----\" : \"Professional, Scientific, and Technical Services\",\n",
    "    \"55----\" : \"Management of Companies and Enterprises\",\n",
    "    \"56----\" : \"Administrative and Support and Waste Management and Remediation Services\",\n",
    "    \"61----\" : \"Education Services\",\n",
    "    \"62----\" : \"Health Care and Social Assistance\",\n",
    "    \"71----\" : \"Arts, Entertainment, and Recreation\",\n",
    "    \"72----\" : \"Accomodation and Food Services\",\n",
    "    \"81----\" : \"Other Services (except Public Administration)\",\n",
    "    \"92----\" : \"Public Administration\",\n",
    "    \"99----\" : \"Unclassified\"\n",
    "}"
   ]
  },
  {
   "cell_type": "code",
   "execution_count": null,
   "metadata": {},
   "outputs": [],
   "source": [
    "# dataframe for just the nine-county Bay Area region\n",
    "df = cbp[(cbp[\"fipstate\"] == 6) & (cbp['fipscty'].isin(nine_counties))].reset_index()"
   ]
  },
  {
   "cell_type": "code",
   "execution_count": null,
   "metadata": {},
   "outputs": [],
   "source": [
    "# dropped all rows except two-digit NAICS codes\n",
    "\n",
    "# for nine-county Bay Area\n",
    "two_digit_naics = df[(df.naics.str[2:] == \"----\") & (df.naics.str[:2] != \"--\")].sort_values([\"fipscty\", \"naics\"]).reset_index()\n",
    "two_digit_naics.head()\n",
    "\n",
    "# for US as a whole\n",
    "national_two_digit_naics = cbp[(cbp.naics.str[2:] == \"----\") & (cbp.naics.str[:2] != \"--\")]"
   ]
  },
  {
   "cell_type": "code",
   "execution_count": null,
   "metadata": {},
   "outputs": [],
   "source": [
    "# dropped all rows except two-digit NAICS codes\n",
    "\n",
    "# for nine-county Bay Area\n",
    "three_digit_naics = df[df.naics.str[3:] == \"///\"].sort_values([\"fipscty\", \"naics\"]).reset_index()\n",
    "three_digit_naics.head()\n",
    "\n",
    "# for US as a whole\n",
    "national_three_digit_naics = cbp[cbp.naics.str[3:] == \"///\"]"
   ]
  },
  {
   "cell_type": "code",
   "execution_count": null,
   "metadata": {},
   "outputs": [],
   "source": [
    "# create an array of all the two-digit NAICS codes\n",
    "two_digit_naics_codes = cbp[(cbp.naics.str[2:] == \"----\") & (cbp.naics.str[:2] != \"--\")]['naics'].unique()\n",
    "three_digit_naics_codes = cbp[cbp.naics.str[3:] == \"///\"]['naics'].unique()"
   ]
  },
  {
   "cell_type": "markdown",
   "metadata": {},
   "source": [
    "## LOCATION QUOTIENT\n",
    "<ul>\n",
    "    <li>calculate location quotients to describe regional specialization</li>\n",
    "    <li>currently handles two geographies; will be updated to take more</li>\n",
    "    </ul>"
   ]
  },
  {
   "cell_type": "code",
   "execution_count": null,
   "metadata": {},
   "outputs": [],
   "source": [
    "# 2016 data\n",
    "\n",
    "result_list = []\n",
    "regional_employment_by_industry_list = []\n",
    "national_employment_by_industry_list = []\n",
    "\n",
    "# get total number of employees by geography\n",
    "regional_employees = sum(two_digit_naics['emp'])\n",
    "national_employees = sum(national_two_digit_naics['emp'])\n",
    "\n",
    "# iterate through two-digit industries\n",
    "for naics in two_digit_naics_codes:\n",
    "    \n",
    "    # calculate number of employees by industry by geography\n",
    "    regional_industy_employees = sum(two_digit_naics[two_digit_naics['naics'] == naics]['emp'])\n",
    "    national_industry_employees = sum(national_two_digit_naics[national_two_digit_naics['naics'] == naics]['emp'])\n",
    "    \n",
    "    # calculate & save location quotient\n",
    "    lq = (regional_industy_employees/regional_employees)/(national_industry_employees/national_employees)\n",
    "    result_list.append(pd.DataFrame(data=[[industries[naics], round(lq, 2)]], columns=['Industry', 'Location Quotient']))\n",
    "\n",
    "    \n",
    "    # save number of regional employees by industry for use in other analyses\n",
    "    regional_employment_by_industry_list.append(pd.DataFrame(data=[[industries[naics], regional_industy_employees]], columns=['Industry', 'Employees']))\n",
    "    national_employment_by_industry_list.append(pd.DataFrame(data=[[industries[naics], national_industry_employees]], columns=['Industry', 'Employees']))\n",
    "    \n",
    "# create dataframe of industries and location quotients\n",
    "# export dataframe as CSV\n",
    "lq2016 = pd.concat(result_list, ignore_index=True)\n",
    "lq2016.to_csv(\"output/LQ_2016_BAvsUSA.csv\")"
   ]
  },
  {
   "cell_type": "code",
   "execution_count": null,
   "metadata": {},
   "outputs": [],
   "source": [
    "# 2016 data -- THREE DIGIT NAICS CODES\n",
    "\n",
    "result_list = []\n",
    "regional_employment_by_industry_list = []\n",
    "national_employment_by_industry_list = []\n",
    "\n",
    "# get total number of employees by geography\n",
    "regional_employees = sum(three_digit_naics['emp'])\n",
    "national_employees = sum(national_three_digit_naics['emp'])\n",
    "\n",
    "# iterate through two-digit industries\n",
    "for naics in three_digit_naics_codes:\n",
    "    \n",
    "    # calculate number of employees by industry by geography\n",
    "    regional_industy_employees = sum(three_digit_naics[three_digit_naics['naics'] == naics]['emp'])\n",
    "    national_industry_employees = sum(national_three_digit_naics[national_three_digit_naics['naics'] == naics]['emp'])\n",
    "    \n",
    "    # calculate & save location quotient\n",
    "    try:\n",
    "        lq = (regional_industy_employees/regional_employees)/(national_industry_employees/national_employees)\n",
    "        result_list.append(pd.DataFrame(data=[[naics, round(lq, 2)]], columns=['Industry', 'Location Quotient']))\n",
    "    except ZeroDivisionError:\n",
    "        pass\n",
    "\n",
    "    \n",
    "    # save number of regional employees by industry for use in other analyses\n",
    "    regional_employment_by_industry_list.append(pd.DataFrame(data=[[naics, regional_industy_employees]], columns=['Industry', 'Employees']))\n",
    "    national_employment_by_industry_list.append(pd.DataFrame(data=[[naics, national_industry_employees]], columns=['Industry', 'Employees']))\n",
    "    \n",
    "# create dataframe of industries and location quotients\n",
    "# export dataframe as CSV\n",
    "lq2016 = pd.concat(result_list, ignore_index=True)\n",
    "lq2016.to_csv(\"output/3_DIGIT_LQ_2016_BAvsUSA.csv\")"
   ]
  },
  {
   "cell_type": "code",
   "execution_count": null,
   "metadata": {},
   "outputs": [],
   "source": [
    "# 2013 data\n",
    "\n",
    "result_list13 = []\n",
    "regional_employment_by_industry_list13 = []\n",
    "national_employment_by_industry_list13 = []\n",
    "\n",
    "# get total number of employees by geography\n",
    "regional_employees13 = sum(two_digit_naics13['emp'])\n",
    "national_employees13 = sum(national_two_digit_naics13['emp'])\n",
    "\n",
    "# iterate through two-digit industries\n",
    "for naics in two_digit_naics_codes:\n",
    "    \n",
    "    # calculate number of employees by industry by geography\n",
    "    regional_industy_employees13 = sum(two_digit_naics13[two_digit_naics13['naics'] == naics]['emp'])\n",
    "    national_industry_employees13 = sum(national_two_digit_naics13[national_two_digit_naics13['naics'] == naics]['emp'])\n",
    "    \n",
    "    # calculate & save location quotient\n",
    "    lq = (regional_industy_employees13/regional_employees13)/(national_industry_employees13/national_employees13)\n",
    "    result_list13.append(pd.DataFrame(data=[[industries[naics], round(lq, 2)]], columns=['Industry', 'Location Quotient']))\n",
    "\n",
    "    \n",
    "    # save number of regional employees by industry for use in other analyses\n",
    "    regional_employment_by_industry_list13.append(pd.DataFrame(data=[[industries[naics], regional_industy_employees13]], columns=['Industry', 'Employees']))\n",
    "    national_employment_by_industry_list13.append(pd.DataFrame(data=[[industries[naics], national_industry_employees13]], columns=['Industry', 'Employees']))\n",
    "    \n",
    "# create dataframe of industries and location quotients\n",
    "# export dataframe as CSV\n",
    "lq2013 = pd.concat(result_list13, ignore_index=True)\n",
    "lq2013.to_csv(\"output/LQ_2013_BAvsUSA.csv\")"
   ]
  },
  {
   "cell_type": "code",
   "execution_count": null,
   "metadata": {
    "scrolled": true
   },
   "outputs": [],
   "source": [
    "location_quotients = lq2013.merge(lq2016, on=\"Industry\", suffixes=[\" 2013\",\" 2016\"])\n",
    "location_quotients['Change'] = location_quotients['Location Quotient 2016'] - location_quotients['Location Quotient 2013']\n",
    "\n",
    "location_quotients.to_csv(\"output/LocationQuotients_BayArea_vs_USA_2013_2016.csv\")\n",
    "\n",
    "location_quotients"
   ]
  },
  {
   "cell_type": "code",
   "execution_count": null,
   "metadata": {
    "scrolled": true
   },
   "outputs": [],
   "source": [
    "# visualize location quotients!\n",
    "\n",
    "plt.clf()\n",
    "\n",
    "location_quotients.iloc[:][[\"Location Quotient 2013\", \"Location Quotient 2016\"]].plot(kind=\"bar\", figsize=(10,10))\n",
    "\n",
    "plt.xticks(np.arange(20), location_quotients['Industry'])\n",
    "plt.plot(np.arange(20), np.ones(20), 'c:', linewidth=4)\n",
    "\n",
    "plt.title(\"Location Quotients for the Bay Area, 2013-2016\")\n",
    "plt.ylabel(\"Location Quotient\")\n",
    "\n",
    "plt.savefig(\"img/LQ_compare.png\")\n",
    "\n",
    "plt.show()"
   ]
  },
  {
   "cell_type": "markdown",
   "metadata": {},
   "source": [
    "<p style=\"color:red;font-size:16px;\"><b>~*~Running again for other years. Attempted thru API, but TBD.~*~</b></p>"
   ]
  },
  {
   "cell_type": "code",
   "execution_count": null,
   "metadata": {},
   "outputs": [],
   "source": [
    "year = 2013\n",
    "variables = [\"EMP\"] \n",
    "geo = \"county:*&in=state:06\"\n",
    "naics_year = 2012\n",
    "naics_industry_code = 312\n",
    "\n",
    "api_query = \"https://api.census.gov/data/%s/cbp?get=%s&for=%s&NAICS%s=%s\" % (year, ','.join(variables), geo, str(naics_year), str(naics_industry_code))\n",
    "print(api_query)"
   ]
  },
  {
   "cell_type": "code",
   "execution_count": null,
   "metadata": {},
   "outputs": [],
   "source": [
    "dfs = []\n",
    "\n",
    "for code in industries.keys():\n",
    "    shortcode = code[:2]\n",
    "    api_query = \"https://api.census.gov/data/%s/cbp?get=%s&for=%s&NAICS%s=%s\" % (year, ','.join(variables), geo, str(naics_year), shortcode)\n",
    "    \n",
    "    r = requests.get(api_query)\n",
    "\n",
    "    print(code, industries[code], r)\n",
    "\n",
    "    values = []\n",
    "\n",
    "    split_response = r.text[1:-1].split('\\n')\n",
    "    num_lines = len(split_response)\n",
    "\n",
    "    for i in range(num_lines):\n",
    "        s = split_response[i][1:-1]\n",
    "        t = re.findall(r'(?:[^\\s,\"]|\"(?:\\\\.|[^\"])*\")+', s)\n",
    "        t = [x[1:-1] if x[-1] == '\"' else x[1:-2] for x in t]\n",
    "        values.append(t)\n",
    "    header = values[0]\n",
    "    values = values[1:]\n",
    "\n",
    "    dfs.append(pd.DataFrame(data=values, columns=header))\n",
    "\n",
    "cbp_data = pd.concat(dfs, ignore_index=True)\n"
   ]
  },
  {
   "cell_type": "markdown",
   "metadata": {},
   "source": [
    "## DIVERSITY INDEX\n",
    "<ul>\n",
    "    <li> generate one statistic describing the industrial diversity of a geography </li>\n",
    "    </ul>"
   ]
  },
  {
   "cell_type": "code",
   "execution_count": null,
   "metadata": {},
   "outputs": [],
   "source": [
    "# rei is regional employment by industry\n",
    "rei = pd.concat(regional_employment_by_industry_list, ignore_index=True)"
   ]
  },
  {
   "cell_type": "code",
   "execution_count": null,
   "metadata": {},
   "outputs": [],
   "source": [
    "rei['Share'] = [x/regional_employees for x in list(rei['Employees'])]"
   ]
  },
  {
   "cell_type": "code",
   "execution_count": null,
   "metadata": {},
   "outputs": [],
   "source": [
    "rei['Log_Share'] = [np.log(x) for x in list(rei['Share'])]\n",
    "rei"
   ]
  },
  {
   "cell_type": "code",
   "execution_count": null,
   "metadata": {},
   "outputs": [],
   "source": [
    "num_industries = len(rei)\n",
    "diversity_index = -(sum(rei['Share'] * rei['Log_Share'])/np.log(num_industries))\n",
    "round(diversity_index, 2)"
   ]
  },
  {
   "cell_type": "markdown",
   "metadata": {},
   "source": [
    "Run the same steps at the national level."
   ]
  },
  {
   "cell_type": "code",
   "execution_count": null,
   "metadata": {},
   "outputs": [],
   "source": [
    "nei = pd.concat(national_employment_by_industry_list, ignore_index=True)\n",
    "nei['Share'] = [x/national_employees for x in list(nei['Employees'])]\n",
    "nei['Log_Share'] = [np.log(x) for x in list(nei['Share'])]\n",
    "nei"
   ]
  },
  {
   "cell_type": "code",
   "execution_count": null,
   "metadata": {},
   "outputs": [],
   "source": [
    "# national 2016 diversity index\n",
    "\n",
    "num_industries = len(nei)\n",
    "diversity_index = -(sum(nei['Share'] * nei['Log_Share'])/np.log(num_industries))\n",
    "round(diversity_index, 2)"
   ]
  },
  {
   "cell_type": "markdown",
   "metadata": {},
   "source": [
    "Now run the region again for 2013."
   ]
  },
  {
   "cell_type": "code",
   "execution_count": null,
   "metadata": {},
   "outputs": [],
   "source": [
    "rei13 = pd.concat(regional_employment_by_industry_list13, ignore_index=True)\n",
    "rei13['Share'] = [x/regional_employees13 for x in list(rei13['Employees'])]\n",
    "rei13['Log_Share'] = [np.log(x) for x in list(rei13['Share'])]\n",
    "rei13"
   ]
  },
  {
   "cell_type": "code",
   "execution_count": null,
   "metadata": {},
   "outputs": [],
   "source": [
    "num_industries = len(rei13)\n",
    "diversity_index = -(sum(rei13['Share'] * rei13['Log_Share'])/np.log(num_industries))\n",
    "round(diversity_index, 2)"
   ]
  },
  {
   "cell_type": "markdown",
   "metadata": {},
   "source": [
    "And again for the nation in 2013."
   ]
  },
  {
   "cell_type": "code",
   "execution_count": null,
   "metadata": {},
   "outputs": [],
   "source": [
    "nei13 = pd.concat(national_employment_by_industry_list13, ignore_index=True)\n",
    "nei13['Share'] = [x/national_employees for x in list(nei13['Employees'])]\n",
    "nei13['Log_Share'] = [np.log(x) for x in list(nei13['Share'])]\n",
    "nei13"
   ]
  },
  {
   "cell_type": "code",
   "execution_count": null,
   "metadata": {},
   "outputs": [],
   "source": [
    "# national 2013 diversity index\n",
    "\n",
    "num_industries = len(nei13)\n",
    "diversity_index = -(sum(nei13['Share'] * nei13['Log_Share'])/np.log(num_industries))\n",
    "round(diversity_index, 2)"
   ]
  },
  {
   "cell_type": "code",
   "execution_count": null,
   "metadata": {},
   "outputs": [],
   "source": [
    "# save to a DF\n",
    "diversity_index_results = pd.DataFrame(data=[[\"Bay Area\", 0.88, 0.88], [\"United States\", 0.82, 0.87]], columns=[\"Geography\", \"Diversity Index 2013\", \"Diversity Index 2016\"])\n",
    "\n",
    "diversity_index_results.to_csv(\"output/DiversityIndex_BayArea_vs_US_2013-2013.csv\")\n",
    "\n",
    "diversity_index_results"
   ]
  },
  {
   "cell_type": "markdown",
   "metadata": {},
   "source": [
    "## SHIFT-SHARE ANALYSIS"
   ]
  },
  {
   "cell_type": "code",
   "execution_count": null,
   "metadata": {},
   "outputs": [],
   "source": [
    "# load CBP data from 2013\n",
    "\n",
    "# dataframe for just the nine-county Bay Area region\n",
    "df13 = cbp13[(cbp13[\"fipstate\"] == 6) & (cbp13['fipscty'].isin(nine_counties))].reset_index()\n",
    "\n",
    "# dropped all rows except two-digit NAICS codes\n",
    "\n",
    "# for nine-county Bay Area\n",
    "two_digit_naics13 = df13[(df13.naics.str[2:] == \"----\") & (df13.naics.str[:2] != \"--\")].sort_values([\"fipscty\", \"naics\"]).reset_index()\n",
    "two_digit_naics13.head()\n",
    "\n",
    "# for US as a whole\n",
    "national_two_digit_naics13 = cbp13[(cbp13.naics.str[2:] == \"----\") & (cbp13.naics.str[:2] != \"--\")].reset_index()\n",
    "\n",
    "\n",
    "# create an array of all the two-digit NAICS codes\n",
    "two_digit_naics_codes13 = cbp13[(cbp13.naics.str[2:] == \"----\") & (cbp13.naics.str[:2] != \"--\")]['naics'].unique()\n",
    "\n"
   ]
  },
  {
   "cell_type": "code",
   "execution_count": null,
   "metadata": {},
   "outputs": [],
   "source": [
    "# load CBP data from 2013 - THREE DIGIT NAICS\n",
    "\n",
    "# dataframe for just the nine-county Bay Area region\n",
    "df13 = cbp13[(cbp13[\"fipstate\"] == 6) & (cbp13['fipscty'].isin(nine_counties))].reset_index()\n",
    "\n",
    "# dropped all rows except two-digit NAICS codes\n",
    "\n",
    "# for nine-county Bay Area\n",
    "three_digit_naics13 = df13[df13.naics.str[3:] == \"///\"].sort_values([\"fipscty\", \"naics\"]).reset_index()\n",
    "three_digit_naics13.head()\n",
    "\n",
    "# for US as a whole\n",
    "national_three_digit_naics13 = cbp13[cbp13.naics.str[3:] == \"///\"].reset_index()\n",
    "\n",
    "\n",
    "# create an array of all the two-digit NAICS codes\n",
    "three_digit_naics_codes13 = cbp13[cbp13.naics.str[3:] == \"///\"]['naics'].unique()\n",
    "\n"
   ]
  },
  {
   "cell_type": "code",
   "execution_count": null,
   "metadata": {},
   "outputs": [],
   "source": [
    "# identify columns to keep for pending shift-share analysis\n",
    "\n",
    "cols2use = [\"fipscty\", \"naics\", \"emp\"]\n",
    "\n",
    "# merge 2013 and 2016 data for both the Bay Area and the U.S.\n",
    "\n",
    "bay_area_emp = three_digit_naics13[cols2use].merge(three_digit_naics[cols2use], left_on=['fipscty','naics'], right_on=['fipscty', 'naics'], suffixes=[\"_13\", \"_16\"])\n",
    "usa_emp = national_three_digit_naics13[cols2use].merge(national_three_digit_naics[cols2use], left_on=['fipscty','naics'], right_on=['fipscty', 'naics'], suffixes=[\"_13\", \"_16\"])\n",
    "\n"
   ]
  },
  {
   "cell_type": "code",
   "execution_count": null,
   "metadata": {},
   "outputs": [],
   "source": [
    "# clean and aggregate employment data\n",
    "\n",
    "df2be = []\n",
    "\n",
    "for industry_code in list(bay_area_emp['naics'].unique()):\n",
    "    df2be.append([industry_code, sum(bay_area_emp[bay_area_emp['naics'] == industry_code]['emp_13']), sum(bay_area_emp[bay_area_emp['naics'] == industry_code]['emp_16'])])\n",
    "\n",
    "bay_area_emp_clean = pd.DataFrame(data=df2be, columns=['naics', 'emp13', 'emp16'])\n",
    "\n",
    "df2be = []\n",
    "\n",
    "for industry_code in list(usa_emp['naics'].unique()):\n",
    "    df2be.append([industry_code, sum(usa_emp[usa_emp['naics'] == industry_code]['emp_13']), sum(usa_emp[usa_emp['naics'] == industry_code]['emp_16'])])\n",
    "\n",
    "usa_emp_clean = pd.DataFrame(data=df2be, columns=['naics', 'emp13', 'emp16'])\n",
    "\n",
    "bay_area_usa_emp = bay_area_emp_clean.merge(usa_emp_clean, left_on=\"naics\", right_on=\"naics\", suffixes=[\"_bay\", \"_usa\"])\n",
    "\n",
    "bay_area_usa_emp['industry'] = [x for x in bay_area_usa_emp['naics']]\n",
    "\n",
    "bay_area_usa_emp = bay_area_usa_emp[['industry', 'naics','emp13_bay', 'emp16_bay','emp13_usa', 'emp16_usa']]\n",
    "bay_area_usa_emp.to_csv(\"output/3DIGIT_BayArea_USA_employment_2013_2016.csv\")\n"
   ]
  },
  {
   "cell_type": "code",
   "execution_count": null,
   "metadata": {},
   "outputs": [],
   "source": [
    "# new dataframe for shift-share analysis (ss)\n",
    "ss = bay_area_usa_emp\n",
    "\n",
    "# SHIFT-SHARE ANALYSIS\n",
    "\n",
    "# national growth share\n",
    "ss[\"natl_growth_rate\"] = (sum(ss['emp16_usa']) - sum(ss['emp13_usa'])) / sum(ss['emp13_usa'])\n",
    "ss[\"natl_growth_share\"] = ss['emp13_bay'] * ss['natl_growth_rate']\n",
    "\n",
    "# industry mix\n",
    "ss[\"natl_industry_growth_rate\"] = (ss['emp16_usa'] - ss['emp13_usa']) / ss['emp13_usa']\n",
    "ss['industry_mix'] = ss['emp13_bay'] * (ss['natl_industry_growth_rate'] - ss['natl_growth_rate'])\n",
    "\n",
    "# local competitiveness\n",
    "ss['local_industry_growth_rate'] = (ss['emp16_bay'] - ss['emp13_bay']) / ss['emp13_bay']\n",
    "ss['local_competitiveness'] = ss['emp13_bay'] * (ss['local_industry_growth_rate'] - ss['natl_industry_growth_rate'])\n",
    "\n",
    "# change in local jobs\n",
    "ss['local_emp_delta'] = ss['emp16_bay'] - ss['emp13_bay']\n",
    "\n",
    "ss.to_csv(\"output/3DIGIT_Shift-Share_BayArea2USA_2013-2016.csv\")\n",
    "\n",
    "ss.head()\n"
   ]
  },
  {
   "cell_type": "code",
   "execution_count": null,
   "metadata": {
    "scrolled": true
   },
   "outputs": [],
   "source": [
    "ss_results = ss[['industry','emp13_bay', 'emp16_bay','local_emp_delta', 'natl_growth_share', 'industry_mix', 'local_competitiveness']]\n",
    "\n",
    "ss_results['explained_local_emp_delta'] = ss_results['natl_growth_share'] + ss_results['industry_mix'] + ss_results['local_competitiveness']\n",
    "ss_results['unexplained_local_emp_delta'] = round(ss_results['local_emp_delta'] - ss_results['explained_local_emp_delta'],2)\n",
    "\n",
    "ss_results\n"
   ]
  },
  {
   "cell_type": "code",
   "execution_count": null,
   "metadata": {},
   "outputs": [],
   "source": [
    "# quick pass as visualizing with a bar chart\n",
    "\n",
    "plt.clf()\n",
    "\n",
    "ss_results.iloc[:][[\"natl_growth_share\", \"industry_mix\", \"local_competitiveness\"]].plot(kind=\"bar\", figsize=(10,10))\n",
    "\n",
    "plt.xticks(np.arange(len(ss_results)),list(ss_results['industry']), rotation=90)\n",
    "\n",
    "# plt.savefig('test.png')"
   ]
  },
  {
   "cell_type": "markdown",
   "metadata": {},
   "source": [
    "## API experimentation"
   ]
  },
  {
   "cell_type": "markdown",
   "metadata": {},
   "source": [
    "lookup data dictionaries for information stored in codes"
   ]
  },
  {
   "cell_type": "code",
   "execution_count": null,
   "metadata": {},
   "outputs": [],
   "source": [
    "# EMPSZES attribute --> employment size of establishment\n",
    "# https://api.census.gov/data/2016/cbp/variables/EMPSZES.json\n",
    "\n",
    "empszes_lookup_api = requests.get(\"https://api.census.gov/data/2016/cbp/variables/EMPSZES.json\")\n",
    "empszes = empszes_lookup_api.json()['values']['item']\n",
    "\n",
    "del empszes_lookup_api"
   ]
  },
  {
   "cell_type": "markdown",
   "metadata": {},
   "source": [
    "Main data query"
   ]
  },
  {
   "cell_type": "code",
   "execution_count": null,
   "metadata": {},
   "outputs": [],
   "source": [
    "year = 2016\n",
    "variables = [\"ESTAB\", \"EMPSZES\"] \n",
    "geo = \"county:*&in=state:06\"\n",
    "naics_year = 2012\n",
    "naics_industry_code = 312\n",
    "\n",
    "api_query = \"https://api.census.gov/data/%s/cbp?get=%s&for=%s&NAICS%s=%s\" % (year, ','.join(variables), geo, str(naics_year), str(naics_industry_code))\n",
    "\n",
    "\n",
    "\n"
   ]
  },
  {
   "cell_type": "code",
   "execution_count": null,
   "metadata": {},
   "outputs": [],
   "source": [
    "r = requests.get(api_query)\n",
    "\n",
    "print(r)\n",
    "\n",
    "values = []\n",
    "\n",
    "split_response = r.text[1:-1].split('\\n')\n",
    "num_lines = len(split_response)\n",
    "\n",
    "for i in range(num_lines):\n",
    "    s = split_response[i][1:-1]\n",
    "    t = re.findall(r'(?:[^\\s,\"]|\"(?:\\\\.|[^\"])*\")+', s)\n",
    "    t = [x[1:-1] if x[-1] == '\"' else x[1:-2] for x in t]\n",
    "    values.append(t)\n",
    "header = values[0]\n",
    "values = values[1:]\n",
    "\n",
    "testDF = pd.DataFrame(data=values, columns=header)\n",
    "print(len(testDF), \"rows\")\n",
    "testDF.head()"
   ]
  },
  {
   "cell_type": "code",
   "execution_count": null,
   "metadata": {},
   "outputs": [],
   "source": [
    "testDF['EMPSIZES_TEXT'] = [empszes[x] for x in testDF['EMPSZES']]\n",
    "testDF.head()"
   ]
  },
  {
   "cell_type": "code",
   "execution_count": null,
   "metadata": {},
   "outputs": [],
   "source": [
    "testDF[testDF['county'].isin([str(x).zfill(3) for x in nine_counties])]"
   ]
  },
  {
   "cell_type": "code",
   "execution_count": null,
   "metadata": {},
   "outputs": [],
   "source": [
    "\"1\".zfill(2)"
   ]
  },
  {
   "cell_type": "code",
   "execution_count": null,
   "metadata": {
    "scrolled": true
   },
   "outputs": [],
   "source": [
    "# Industry, Establishments, Employees\n",
    "\n",
    "for county in testDF['county'].unique():\n",
    "    for empsize in testDF['EMPSIZES_TEXT'].unique():\n",
    "        tdf = testDF[(testDF['county'] == county) & (testDF['EMPSIZES_TEXT']== empsize)]\n",
    "        \n",
    "        \n",
    "            \n",
    "            #print([county, str(naics_industry_code)])"
   ]
  },
  {
   "cell_type": "code",
   "execution_count": null,
   "metadata": {},
   "outputs": [],
   "source": [
    "tdf"
   ]
  },
  {
   "cell_type": "markdown",
   "metadata": {},
   "source": [
    "## Convert NAICS crosswalks into a lookup dataframe\n",
    "<ul>\n",
    "    <li>This DataFrame, named <i>crosswalk</i> provides lookup information for NAICS codes across time</li>\n",
    "    <li>Future versions will take into acount SIC codes as well</li>\n",
    "</ul>"
   ]
  },
  {
   "cell_type": "code",
   "execution_count": null,
   "metadata": {},
   "outputs": [],
   "source": [
    "crosswalk17_12 = pd.read_excel('data/2017_to_2012_NAICS.xlsx', skiprows=[0,1])\n",
    "crosswalk12_07 = pd.read_excel('data/2007_to_2012_NAICS.xls', skiprows=[0,1])\n",
    "crosswalk07_02 = pd.read_excel('data/2007_to_2002_NAICS.xls', skiprows=[0,1])\n",
    "crosswalk02_97 = pd.read_excel('data/2002_NAICS_to_1997_NAICS.xls', sheet_name=\"Concordance 23 US NoD\")\n",
    "crosswalk97_87sic = pd.read_excel('data/1997_NAICS_to_1987_SIC.xls')"
   ]
  },
  {
   "cell_type": "code",
   "execution_count": null,
   "metadata": {},
   "outputs": [],
   "source": [
    "crosswalk = crosswalk17_12[['2017 NAICS Title','2017 NAICS Code', '2012 NAICS Code', ]]\n",
    "\n",
    "# merge 2007 data\n",
    "crosswalk = crosswalk.merge(right=crosswalk12_07[[\"2012 NAICS Code\", \"2007 NAICS Code\"]], left_on=\"2012 NAICS Code\", right_on=\"2012 NAICS Code\")\n",
    "print(\"after 2007 merge:\", len(crosswalk), \"rows\")\n",
    "\n",
    "# merge 2002 data\n",
    "crosswalk = crosswalk.merge(right=crosswalk07_02[[\"2007 NAICS Code\", \"2002 NAICS Code\"]], left_on=\"2007 NAICS Code\", right_on=\"2007 NAICS Code\")\n",
    "print(\"after 2002 merge:\", len(crosswalk), \"rows\")\n",
    "\n",
    "\n",
    "# merge 1997 data\n",
    "crosswalk = crosswalk.merge(right=crosswalk02_97[[\"NAICS02\", \"NAICS97\"]], left_on=\"2002 NAICS Code\", right_on=\"NAICS02\")\n",
    "print(\"after 1997 merge:\", len(crosswalk), \"rows\")\n",
    "\n",
    "\n",
    "# clean up output\n",
    "crosswalk['1997 NAICS Code'] = [int(x) for x in list(crosswalk['NAICS97'])]\n",
    "crosswalk.drop([\"NAICS02\", \"NAICS97\"], axis=1, inplace=True)\n",
    "\n",
    "# merge 1987 SIC codes\n",
    "crosswalk = crosswalk.merge(right=crosswalk97_87sic[[\"1997 NAICS\", \"SIC\"]], left_on=\"1997 NAICS Code\", right_on=\"1997 NAICS\")\n",
    "crosswalk.drop([\"1997 NAICS\"], axis=1, inplace=True)\n",
    "print(\"after SIC merge:\", len(crosswalk), \"rows\")\n",
    "\n",
    "\n",
    "del crosswalk17_12, crosswalk12_07, crosswalk07_02, crosswalk02_97, crosswalk97_87sic\n",
    "\n",
    "crosswalk.head()\n",
    "\n"
   ]
  },
  {
   "cell_type": "code",
   "execution_count": null,
   "metadata": {},
   "outputs": [],
   "source": [
    "crosswalk.to_csv(\"output/NAICS_SIC_Crosswalk_1987-2017.csv\")"
   ]
  },
  {
   "cell_type": "markdown",
   "metadata": {},
   "source": [
    "## Time Series\n",
    "<p> Create a time series showing temporal trends in the following:</p>\n",
    "<ul>\n",
    "    <li>Employment</li>\n",
    "    <li>Establishments</li>\n",
    "    <li>Average Firm Size</li>\n",
    "</ul>"
   ]
  },
  {
   "cell_type": "markdown",
   "metadata": {},
   "source": [
    "### Employment"
   ]
  },
  {
   "cell_type": "code",
   "execution_count": null,
   "metadata": {},
   "outputs": [],
   "source": [
    "sic2naics = dict(zip(crosswalk['SIC'], crosswalk['1997 NAICS Code']))"
   ]
  },
  {
   "cell_type": "code",
   "execution_count": null,
   "metadata": {},
   "outputs": [],
   "source": [
    "cols2keep_naics = ['fipstate', 'fipscty', 'naics', 'emp']\n",
    "cols2keep_sic = ['fipstate', 'fipscty', 'sic', 'emp']"
   ]
  },
  {
   "cell_type": "code",
   "execution_count": null,
   "metadata": {},
   "outputs": [],
   "source": [
    "# years to examine in the time-series\n",
    "series_years = [\"96\", \"97\", \"98\", \"99\", \"00\", \"01\", \"02\", \"03\", \"04\", \"05\", \"06\", \"07\", \"08\", \"09\", \"10\", \"11\", \"12\", \"13\", \"14\", \"15\", \"16\"]\n",
    "\n",
    "naics_2012 = [\"12\", \"13\", \"14\", \"15\", \"16\"]\n",
    "naics_2007 = [\"07\", \"08\", \"09\", \"10\", \"11\"]\n",
    "naics_2002 = [\"02\", \"03\", \"04\", \"05\", \"06\"]\n",
    "naics_1997 = [\"98\", \"99\", \"00\", \"01\"]"
   ]
  },
  {
   "cell_type": "code",
   "execution_count": null,
   "metadata": {},
   "outputs": [],
   "source": [
    "multi_year = pd.DataFrame(columns=cols2keep_naics)"
   ]
  },
  {
   "cell_type": "code",
   "execution_count": null,
   "metadata": {
    "scrolled": true
   },
   "outputs": [],
   "source": [
    "df_holder = []\n",
    "\n",
    "multi_year = pd.DataFrame(columns=cols2keep_naics)\n",
    "\n",
    "for year in naics_1997 + naics_2002 + naics_2007 + naics_2012:\n",
    "    filepath= \"data/cbp%sco.txt\" % year\n",
    "    try:\n",
    "        tempDF = pd.read_csv(filepath, usecols=cols2keep_naics)\n",
    "    except ValueError:\n",
    "        try:\n",
    "            tempDF = pd.read_csv(filepath, usecols=[x.upper() for x in cols2keep_naics])\n",
    "            tempDF.columns = [x.lower() for x in tempDF.columns]\n",
    "        except ValueError:\n",
    "            # older dataset using SIC codes instead of NAICS\n",
    "            tempDF = pd.read_csv(filepath, usecols=cols2keep_sic)\n",
    "\n",
    "            # need to write something here to convert SIC to NAICS\n",
    "            tempDF['sic_number'] = [re.sub('[^0-9]', '', x).ljust(4, \"0\") for x in tempDF['sic']]\n",
    "\n",
    "            # using NAICS 97\n",
    "            tempDF['naics'] = [sic2naics[float(x)] if len(x) > 0 and float(x) in sic2naics else x for x in tempDF['sic_number']]\n",
    "        \n",
    "    # restrict to just Bay Area\n",
    "    tempDF = tempDF[(tempDF['fipstate'] == 6) & (tempDF['fipscty'].isin(nine_counties))]\n",
    "    \n",
    "    if len(multi_year) == 0:\n",
    "        multi_year = tempDF\n",
    "    else:\n",
    "        suffix_l = \"_\" + str((int(year)-1)).zfill(2)\n",
    "        suffix_r = \"_\" + year\n",
    "        multi_year = pd.merge(left=multi_year, right=tempDF, on=['fipstate', 'fipscty', 'naics'], how='outer', suffixes=[suffix_l, suffix_r])\n",
    "    \n",
    "    #tempDF['year'] = year\n",
    "    \n",
    "    #df_holder.append(tempDF)\n",
    "    \n",
    "    print(year, tempDF.shape)\n",
    "    #print(tempDF.head(10))"
   ]
  },
  {
   "cell_type": "code",
   "execution_count": null,
   "metadata": {},
   "outputs": [],
   "source": [
    "multi_year_two_digit = multi_year[(multi_year.naics.str[2:] == \"----\") & (multi_year.naics.str[:2] != \"--\")].sort_values([\"fipscty\", \"naics\"]).reset_index()\n",
    "multi_year_two_digit.head()"
   ]
  },
  {
   "cell_type": "code",
   "execution_count": null,
   "metadata": {},
   "outputs": [],
   "source": [
    "sum_list = []\n",
    "\n",
    "for naics in industries.keys():\n",
    "    tempDF = pd.DataFrame(multi_year_two_digit[multi_year_two_digit['naics'] == naics][list(multi_year_two_digit.columns)[4:]].sum(axis=0)).T\n",
    "    tempDF['naics'] = naics\n",
    "    \n",
    "    sum_list.append(tempDF)\n",
    "    \n",
    "    #print(multi_year_two_digit[multi_year_two_digit['naics'] == naics][list(multi_year_two_digit.columns)[4:]].sum(axis=1))\n",
    "    \n",
    "    \n",
    "    \n",
    "employment_trends = pd.concat(sum_list, ignore_index=True)\n",
    "employment_trends.rename(columns={\"emp\":\"emp_16\"}, inplace=True)\n",
    "\n",
    "employment_trends = employment_trends[[list(employment_trends.columns)[-1]] + list(employment_trends.columns)[:-1]]"
   ]
  },
  {
   "cell_type": "code",
   "execution_count": null,
   "metadata": {},
   "outputs": [],
   "source": [
    "empDF = pd.DataFrame(employment_trends.T)\n",
    "empDF.columns = [industries[x] for x in list(empDF.iloc[0])]\n",
    "empDF = empDF[1:]\n",
    "\n",
    "empDF.to_csv(\"output/Employment_BayArea_98_16.csv\")\n",
    "\n",
    "empDF.head()"
   ]
  },
  {
   "cell_type": "code",
   "execution_count": null,
   "metadata": {},
   "outputs": [],
   "source": [
    "series_full_years = ['1996', \"1997\", \"1998\", \"1999\", \"2000\", \"2001\", \"2002\", \"2003\", \"2004\", \"2005\", \"2006\", \"2007\", \"2008\", \"2009\", \"2010\", \"2011\", \"2012\", \"2013\", \"2014\", \"2015\", \"2016\"]"
   ]
  },
  {
   "cell_type": "code",
   "execution_count": null,
   "metadata": {},
   "outputs": [],
   "source": [
    "plt.clf()\n",
    "\n",
    "plt.figure()\n",
    "\n",
    "empDF.plot(kind=\"bar\", stacked=True, figsize=(40,40))\n",
    "\n",
    "plt.xticks(np.arange(len(empDF)), series_full_years[2:], rotation=0)\n",
    "plt.title(\"Employment Over Time\\n Nine-County Bay Area\\n 1998-2016\")\n",
    "\n",
    "plt.legend(loc='center left', bbox_to_anchor=(1, 0.5))\n",
    "plt.xlabel(\"Year\")\n",
    "plt.ylabel(\"Number of Employees\")\n",
    "\n",
    "plt.savefig(\"img/EmploymentTrends.png\")"
   ]
  },
  {
   "cell_type": "code",
   "execution_count": null,
   "metadata": {},
   "outputs": [],
   "source": [
    "empDF.head()\n",
    "empDF['All Industries'] = empDF.sum(axis=1)"
   ]
  },
  {
   "cell_type": "code",
   "execution_count": null,
   "metadata": {},
   "outputs": [],
   "source": [
    "pct_empDF = empDF.loc[:,\"Agriculture, Forestry, Fishing and Hunting\":\"Unclassified\"].div(empDF[\"All Industries\"], axis=0)\n",
    "\n",
    "pct_empDF.to_csv(\"output/EmploymentAsPctsOfTotal_BayArea_98_16.csv\")"
   ]
  },
  {
   "cell_type": "code",
   "execution_count": null,
   "metadata": {},
   "outputs": [],
   "source": [
    "plt.clf()\n",
    "\n",
    "plt.figure()\n",
    "\n",
    "pct_empDF.plot(kind=\"bar\", stacked=True, figsize=(40,40))\n",
    "\n",
    "plt.xticks(np.arange(len(pct_empDF)), series_full_years[2:], rotation=0)\n",
    "plt.title(\"Percent of Employment Over Time\\n Nine-County Bay Area\\n 1998-2016\")\n",
    "\n",
    "plt.legend(loc='center left', bbox_to_anchor=(1, 0.5))\n",
    "plt.xlabel(\"Year\")\n",
    "plt.ylabel(\"Number of Employees\")\n",
    "\n",
    "plt.savefig(\"img/PctEmploymentTrends.png\")"
   ]
  },
  {
   "cell_type": "code",
   "execution_count": null,
   "metadata": {},
   "outputs": [],
   "source": [
    "plt.clf()\n",
    "\n",
    "plt.figure()\n",
    "\n",
    "pd.DataFrame(pct_empDF.T).plot(kind=\"bar\", figsize=(20,20))\n",
    "\n",
    "plt.xlabel(\"Industry\")\n",
    "plt.ylabel(\"% Employment\")\n",
    "plt.title(\"Percent of Employment Over Time\\n Nine-County Bay Area\\n 1998-2016\")\n",
    "\n",
    "plt.savefig(\"img/PctEmploymentTrends_by_industry.png\")\n",
    "\n",
    "plt.title()"
   ]
  },
  {
   "cell_type": "markdown",
   "metadata": {},
   "source": [
    "### Establishments"
   ]
  },
  {
   "cell_type": "code",
   "execution_count": null,
   "metadata": {},
   "outputs": [],
   "source": [
    "cols2keep_naics = ['fipstate', 'fipscty', 'naics', 'est']\n",
    "cols2keep_sic = ['fipstate', 'fipscty', 'sic', 'est']"
   ]
  },
  {
   "cell_type": "code",
   "execution_count": null,
   "metadata": {},
   "outputs": [],
   "source": [
    "multi_year = pd.DataFrame(columns=cols2keep_naics)"
   ]
  },
  {
   "cell_type": "code",
   "execution_count": null,
   "metadata": {},
   "outputs": [],
   "source": [
    "df_holder = []\n",
    "\n",
    "multi_year = pd.DataFrame(columns=cols2keep_naics)\n",
    "\n",
    "for year in naics_1997 + naics_2002 + naics_2007 + naics_2012:\n",
    "    filepath= \"data/cbp%sco.txt\" % year\n",
    "    try:\n",
    "        tempDF = pd.read_csv(filepath, usecols=cols2keep_naics)\n",
    "    except ValueError:\n",
    "        try:\n",
    "            tempDF = pd.read_csv(filepath, usecols=[x.upper() for x in cols2keep_naics])\n",
    "            tempDF.columns = [x.lower() for x in tempDF.columns]\n",
    "        except ValueError:\n",
    "            # older dataset using SIC codes instead of NAICS\n",
    "            tempDF = pd.read_csv(filepath, usecols=cols2keep_sic)\n",
    "\n",
    "            # need to write something here to convert SIC to NAICS\n",
    "            tempDF['sic_number'] = [re.sub('[^0-9]', '', x).ljust(4, \"0\") for x in tempDF['sic']]\n",
    "\n",
    "            # using NAICS 97\n",
    "            tempDF['naics'] = [sic2naics[float(x)] if len(x) > 0 and float(x) in sic2naics else x for x in tempDF['sic_number']]\n",
    "        \n",
    "    # restrict to just Bay Area\n",
    "    tempDF = tempDF[(tempDF['fipstate'] == 6) & (tempDF['fipscty'].isin(nine_counties))]\n",
    "    \n",
    "    if len(multi_year) == 0:\n",
    "        multi_year = tempDF\n",
    "    else:\n",
    "        suffix_l = \"_\" + str((int(year)-1)).zfill(2)\n",
    "        suffix_r = \"_\" + year\n",
    "        multi_year = pd.merge(left=multi_year, right=tempDF, on=['fipstate', 'fipscty', 'naics'], how='outer', suffixes=[suffix_l, suffix_r])\n",
    "    \n",
    "    #tempDF['year'] = year\n",
    "    \n",
    "    #df_holder.append(tempDF)\n",
    "    \n",
    "    print(year, tempDF.shape)\n",
    "    #print(tempDF.head(10))"
   ]
  },
  {
   "cell_type": "code",
   "execution_count": null,
   "metadata": {},
   "outputs": [],
   "source": [
    "multi_year_two_digit = multi_year[(multi_year.naics.str[2:] == \"----\") & (multi_year.naics.str[:2] != \"--\")].sort_values([\"fipscty\", \"naics\"]).reset_index()\n",
    "multi_year_two_digit.head()"
   ]
  },
  {
   "cell_type": "code",
   "execution_count": null,
   "metadata": {},
   "outputs": [],
   "source": [
    "sum_list = []\n",
    "\n",
    "for naics in industries.keys():\n",
    "    tempDF = pd.DataFrame(multi_year_two_digit[multi_year_two_digit['naics'] == naics][list(multi_year_two_digit.columns)[4:]].sum(axis=0)).T\n",
    "    tempDF['naics'] = naics\n",
    "    \n",
    "    sum_list.append(tempDF)\n",
    "    \n",
    "    #print(multi_year_two_digit[multi_year_two_digit['naics'] == naics][list(multi_year_two_digit.columns)[4:]].sum(axis=1))\n",
    "    \n",
    "    \n",
    "    \n",
    "establishment_trends = pd.concat(sum_list, ignore_index=True)\n",
    "establishment_trends.rename(columns={\"est\":\"est_16\"}, inplace=True)\n",
    "\n",
    "establishment_trends = establishment_trends[[list(establishment_trends.columns)[-1]] + list(establishment_trends.columns)[:-1]]"
   ]
  },
  {
   "cell_type": "code",
   "execution_count": null,
   "metadata": {},
   "outputs": [],
   "source": [
    "estDF = pd.DataFrame(establishment_trends.T)\n",
    "estDF.columns = [industries[x] for x in list(estDF.iloc[0])]\n",
    "estDF = estDF[1:]\n",
    "\n",
    "estDF.to_csv(\"output/Establishments_BayArea_98_16.csv\")\n",
    "\n",
    "estDF.head()"
   ]
  },
  {
   "cell_type": "code",
   "execution_count": null,
   "metadata": {},
   "outputs": [],
   "source": [
    "plt.clf()\n",
    "\n",
    "plt.figure()\n",
    "\n",
    "estDF.plot(kind=\"bar\", stacked=True, figsize=(40,40))\n",
    "\n",
    "plt.xticks(np.arange(len(estDF)), series_full_years[2:], rotation=0)\n",
    "plt.title(\"Establishments Over Time\\n Nine-County Bay Area\\n 1998-2016\")\n",
    "\n",
    "plt.legend(loc='center left', bbox_to_anchor=(1, 0.5))\n",
    "plt.xlabel(\"Year\")\n",
    "plt.ylabel(\"Number of Establishments\")\n",
    "\n",
    "plt.savefig(\"img/EstablishmentTrends.png\")"
   ]
  },
  {
   "cell_type": "code",
   "execution_count": null,
   "metadata": {},
   "outputs": [],
   "source": [
    "estDF.head()\n",
    "estDF['All Industries'] = estDF.sum(axis=1)"
   ]
  },
  {
   "cell_type": "code",
   "execution_count": null,
   "metadata": {},
   "outputs": [],
   "source": [
    "pct_estDF = estDF.loc[:,\"Agriculture, Forestry, Fishing and Hunting\":\"Unclassified\"].div(estDF[\"All Industries\"], axis=0)\n",
    "\n",
    "pct_estDF.to_csv(\"output/EstablishmentsAsPctsOfTotal_BayArea_98_16.csv\")"
   ]
  },
  {
   "cell_type": "code",
   "execution_count": null,
   "metadata": {
    "scrolled": false
   },
   "outputs": [],
   "source": [
    "plt.clf()\n",
    "\n",
    "plt.figure()\n",
    "\n",
    "pct_estDF.plot(kind=\"bar\", stacked=True, figsize=(40,40))\n",
    "\n",
    "plt.xticks(np.arange(len(pct_estDF)), series_full_years[2:], rotation=0)\n",
    "plt.title(\"Percent of Establishments Over Time\\n Nine-County Bay Area\\n 1998-2016\")\n",
    "\n",
    "plt.legend(loc='center left', bbox_to_anchor=(1, 0.5))\n",
    "plt.xlabel(\"Year\")\n",
    "plt.ylabel(\"Number of Establishments\")\n",
    "\n",
    "plt.savefig(\"img/PctEstablishmentTrends.png\")"
   ]
  },
  {
   "cell_type": "code",
   "execution_count": null,
   "metadata": {},
   "outputs": [],
   "source": [
    "plt.clf()\n",
    "\n",
    "plt.figure()\n",
    "\n",
    "pd.DataFrame(pct_estDF.T).plot(kind=\"bar\", figsize=(20,20))\n",
    "\n",
    "plt.xlabel(\"Industry\")\n",
    "plt.ylabel(\"% Establishments\")\n",
    "plt.title(\"Percent of Establishments Over Time\\n Nine-County Bay Area\\n 1998-2016\")\n",
    "\n",
    "plt.savefig(\"img/PctEstablishmentTrends_by_industry.png\")\n",
    "\n",
    "plt.title()"
   ]
  }
 ],
 "metadata": {
  "kernelspec": {
   "display_name": "Python 3",
   "language": "python",
   "name": "python3"
  },
  "language_info": {
   "codemirror_mode": {
    "name": "ipython",
    "version": 3
   },
   "file_extension": ".py",
   "mimetype": "text/x-python",
   "name": "python",
   "nbconvert_exporter": "python",
   "pygments_lexer": "ipython3",
   "version": "3.6.4"
  }
 },
 "nbformat": 4,
 "nbformat_minor": 2
}
